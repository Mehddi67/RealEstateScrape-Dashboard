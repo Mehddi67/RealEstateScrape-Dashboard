{
 "cells": [
  {
   "cell_type": "code",
   "execution_count": null,
   "id": "e8bb3eb6",
   "metadata": {},
   "outputs": [],
   "source": [
    "import pandas as pd\n",
    "import geopandas as gpd\n",
    "\n",
    "# Importer les données géospatiales des régions en France au format GeoJSON\n",
    "geojson = gpd.read_file(\"region_france.geojson\")\n",
    "\n",
    "# Supprimer la colonne \"Description\" de la data\n",
    "data_sans_description = data.drop(columns=['Description'])\n",
    "data_sans_description.to_csv('Data_sans_description.csv', index=False)\n",
    "\n",
    "# Charger les données à partir du fichier CSV sans description\n",
    "data = pd.read_csv(\"Data_sans_description.csv\")\n",
    "\n",
    "# Sélectionner uniquement les colonnes \"REGION\" et \"Prix moyen du mètre carré\"\n",
    "data = data.loc[:, [\"REGION\", \"Prix moyen du mètre carré\"]]\n",
    "\n",
    "# Supprimer les lignes en double en se basant sur la colonne \"REGION\"\n",
    "data = data.drop_duplicates(subset=[\"REGION\"])\n",
    "\n",
    "# Supprimer les lignes contenant des valeurs NaN\n",
    "data = data.dropna()\n",
    "\n",
    "# Charger à nouveau le GeoDataFrame à partir du fichier GeoJSON\n",
    "geojson = gpd.read_file(\"region_france.geojson\")\n",
    "\n",
    "# Filtrer le GeoDataFrame pour ne conserver que les régions métropolitaines\n",
    "regions_metropolitaines = [\n",
    "    \"Île-de-France\",\n",
    "    \"Centre-Val de Loire\",\n",
    "    \"Bourgogne-Franche-Comté\",\n",
    "    \"Normandie\",\n",
    "    \"Hauts-de-France\",\n",
    "    \"Grand Est\",\n",
    "    \"Pays de la Loire\",\n",
    "    \"Bretagne\",\n",
    "    \"Nouvelle-Aquitaine\",\n",
    "    \"Occitanie\",\n",
    "    \"Auvergne-Rhône-Alpes\",\n",
    "    \"Provence-Alpes-Côte d'Azur\",\n",
    "    \"Corse\"\n",
    "]\n",
    "geojson = geojson[geojson['nom'].isin(regions_metropolitaines)]\n",
    "\n",
    "# Fusionner les données géospatiales avec les données sur les prix en utilisant la colonne \"REGION\"\n",
    "merged_data = geojson.merge(data, left_on=\"nom\", right_on=\"REGION\", how=\"inner\")\n",
    "\n",
    "# Supprimer la colonne \"REGION\" en plus\n",
    "merged_data = merged_data.drop(columns=[\"REGION\"])\n",
    "\n",
    "# Sauvegarder le GeoDataFrame fusionné au format GeoJSON\n",
    "merged_data.to_file(\"regions_fusionnees.geojson\", driver=\"GeoJSON\")\n",
    "\n"
   ]
  }
 ],
 "metadata": {
  "kernelspec": {
   "display_name": "Python 3 (ipykernel)",
   "language": "python",
   "name": "python3"
  },
  "language_info": {
   "codemirror_mode": {
    "name": "ipython",
    "version": 3
   },
   "file_extension": ".py",
   "mimetype": "text/x-python",
   "name": "python",
   "nbconvert_exporter": "python",
   "pygments_lexer": "ipython3",
   "version": "3.9.13"
  }
 },
 "nbformat": 4,
 "nbformat_minor": 5
}
